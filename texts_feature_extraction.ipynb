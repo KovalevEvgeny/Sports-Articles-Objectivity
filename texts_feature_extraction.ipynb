{
 "cells": [
  {
   "cell_type": "code",
   "execution_count": 1,
   "metadata": {},
   "outputs": [],
   "source": [
    "import matplotlib.pyplot as plt\n",
    "import numpy as np\n",
    "import pandas as pd\n",
    "from sklearn.feature_extraction.text import TfidfVectorizer\n",
    "from nltk import word_tokenize\n",
    "from nltk.corpus import stopwords\n",
    "from nltk.stem.snowball import SnowballStemmer\n",
    "from textblob import TextBlob\n",
    "from wordcloud import WordCloud\n",
    "from xml.sax import ContentHandler, parse\n",
    "\n",
    "stemmer = SnowballStemmer('english', ignore_stopwords=True)\n",
    "stop = set(stopwords.words('english'))\n",
    "\n",
    "%matplotlib inline"
   ]
  },
  {
   "cell_type": "code",
   "execution_count": 2,
   "metadata": {},
   "outputs": [
    {
     "name": "stdout",
     "output_type": "stream",
     "text": [
      "Wall time: 8.2 s\n"
     ]
    }
   ],
   "source": [
    "%%time\n",
    "\n",
    "# Reference https://goo.gl/KaOBG3\n",
    "class ExcelHandler(ContentHandler):\n",
    "    def __init__(self):\n",
    "        self.chars = [  ]\n",
    "        self.cells = [  ]\n",
    "        self.rows = [  ]\n",
    "        self.tables = [  ]\n",
    "    def characters(self, content):\n",
    "        self.chars.append(content)\n",
    "    def startElement(self, name, atts):\n",
    "        if name==\"Cell\":\n",
    "            self.chars = [  ]\n",
    "        elif name==\"Row\":\n",
    "            self.cells=[  ]\n",
    "        elif name==\"Table\":\n",
    "            self.rows = [  ]\n",
    "    def endElement(self, name):\n",
    "        if name==\"Cell\":\n",
    "            self.cells.append(''.join(self.chars))\n",
    "        elif name==\"Row\":\n",
    "            self.rows.append(self.cells)\n",
    "        elif name==\"Table\":\n",
    "            self.tables.append(self.rows)\n",
    "\n",
    "excelHandler = ExcelHandler()\n",
    "parse('features.xls', excelHandler)\n",
    "features = pd.DataFrame(excelHandler.tables[0][1:], columns=excelHandler.tables[0][0])\n",
    "# objective = 0, subjective = 1\n",
    "y = np.where(features['Label'] == 'objective', 0, 1)\n",
    "features['Label'] = y\n",
    "features.drop(['TextID', 'URL'], axis=1, inplace=True)\n",
    "features = features.astype(int)\n",
    "\n",
    "texts = []\n",
    "preprocessed_texts = []\n",
    "\n",
    "for i in range(1, 1001):\n",
    "    if i // 10 == 0:\n",
    "        number = '000' + str(i)\n",
    "    elif i // 100 == 0:\n",
    "        number = '00' + str(i)\n",
    "    elif i // 1000 == 0:\n",
    "        number = '0' + str(i)\n",
    "    else:\n",
    "        number = '1000'\n",
    "    \n",
    "    f = open('Raw_data/Text' + number + '.txt', 'r', encoding='latin-1')\n",
    "    text = f.read()\n",
    "    preprocessed_text = ' '.join([stemmer.stem(w) for w in word_tokenize(text) if (w.isalpha() and w not in stop)])\n",
    "    texts.append(text)\n",
    "    preprocessed_texts.append(preprocessed_text)\n",
    "\n",
    "data = pd.DataFrame({'texts': np.array(texts), 'preprocessed_texts': np.array(preprocessed_texts), 'label': y})\n",
    "objective_texts = ' '.join(data[data['label'] == 0]['preprocessed_texts'].tolist())\n",
    "subjective_texts = ' '.join(data[data['label'] == 1]['preprocessed_texts'].tolist())"
   ]
  },
  {
   "cell_type": "markdown",
   "metadata": {},
   "source": [
    "### feature extraction"
   ]
  },
  {
   "cell_type": "markdown",
   "metadata": {},
   "source": [
    "- `symbols` - total number of symbols in raw text\n",
    "- `sentences` - total number of sentences\n",
    "- `unique_words_count` - number of unique words\n",
    "- `unique_words_share` - ratio between number of unique words and number of total words\n",
    "- `word_average_len` - average word length in text\n",
    "- `stopwords_count` - total number of stopwords\n",
    "- `stopwords_share` - ratio between number of stopwords and number of total words\n",
    "- `polarity_raw`, `polarity_preprocessed` - polarity in raw and preprocessed text respectively using [textblob](https://textblob.readthedocs.io/en/dev/)\n",
    "- `subjectivity_raw`, `subjectivity_preprocessed` - subjectivity in raw and preprocessed text respectively using [textblob](https://textblob.readthedocs.io/en/dev/)"
   ]
  },
  {
   "cell_type": "code",
   "execution_count": 3,
   "metadata": {},
   "outputs": [
    {
     "name": "stdout",
     "output_type": "stream",
     "text": [
      "Wall time: 17.6 s\n"
     ]
    }
   ],
   "source": [
    "%%time\n",
    "\n",
    "features['symbols'] = np.array([len(text) for text in texts])\n",
    "features['sentences'] = np.array([text.count('\\n') + 1 for text in texts])\n",
    "features['unique_words_count'] = np.array([len(set(text.split())) for text in preprocessed_texts])\n",
    "features['unique_words_share'] = np.array([len(set(text.split())) / len(text.split()) for text in preprocessed_texts])\n",
    "features['word_average_len'] = np.array([np.array([len(w) for w in word_tokenize(text) if w.isalpha()]).mean() for text in texts])\n",
    "features['stopwords_count'] = np.array([len([w for w in word_tokenize(text) if w in stop]) for text in texts])\n",
    "features['stopwords_share'] = features['stopwords_count'] / features['totalWordsCount']\n",
    "features['polarity_raw'] = np.array([TextBlob(text).sentiment[0] for text in texts])\n",
    "features['polarity_preprocessed'] = np.array([TextBlob(text).sentiment[0] for text in preprocessed_texts])\n",
    "features['subjectivity'] = np.array([TextBlob(text).sentiment[1] for text in texts])\n",
    "features['subjectivity_preprocessed'] = np.array([TextBlob(text).sentiment[1] for text in preprocessed_texts])\n",
    "\n",
    "# new data file with extracted features\n",
    "features.to_csv('data.csv', index=False)"
   ]
  }
 ],
 "metadata": {
  "kernelspec": {
   "display_name": "Python 3",
   "language": "python",
   "name": "python3"
  },
  "language_info": {
   "codemirror_mode": {
    "name": "ipython",
    "version": 3
   },
   "file_extension": ".py",
   "mimetype": "text/x-python",
   "name": "python",
   "nbconvert_exporter": "python",
   "pygments_lexer": "ipython3",
   "version": "3.6.5"
  }
 },
 "nbformat": 4,
 "nbformat_minor": 2
}
